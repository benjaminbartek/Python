{
 "cells": [
  {
   "cell_type": "markdown",
   "metadata": {},
   "source": [
    "Modify your IF Statement program in to add a function. This function will perform the cost calculation. The function will have two parameters (feet and price). When you call the function, you will pass two arguments to the function; feet of fiber to be installed and the cost (remember that price is dependent on the number of feet being installed). You probably should have the following:\n",
    "Your program must have a header. Use the programing style guide for guidance.\n",
    "A welcome message\n",
    "A function with two parameters\n",
    "A function with two parameters\n",
    "A call to the function\n",
    "The application should calculate the cost based upon the number of feet being ordered\n",
    "A printed message displaying the company name and the total calculated cost"
   ]
  },
  {
   "cell_type": "markdown",
   "metadata": {},
   "source": [
    "// File: Week 5 Assignment.ipynb\n",
    "// Name: Benjamin Bartek\n",
    "// Date: January 12, 2019\n",
    "// Course: DSC 510 - Introduction to Programming\n",
    "// Desc: The program provides an estimate of cost to install fiber optic cable by calculating the number of required feet by the rate, which is discounted based on the number of feet ordered.\n",
    "// Usage: The program prompts the user for 1) the name of the Company, 2) the number of feet required for the cable installation, and 3) whether the user wanst additional quotes. The cost_calc function calculates the estimate using different rate tiers. It also prints the Company name, the number of feet requested, the rate tier, and the estimated installation cost."
   ]
  },
  {
   "cell_type": "code",
   "execution_count": null,
   "metadata": {},
   "outputs": [],
   "source": [
    "Company = input(\"WELCOME TO THE FIBER OPTIC CABLE INSTALLATION EXPRESS!\\n\\nPlease enter the name of your company: \")\n",
    "\n",
    "while True:\n",
    "    Feet = input(\"Please enter the length of fiber optic cable to be installed in feet: \")\n",
    "    \n",
    "    try:\n",
    "        val = float(Feet)\n",
    "    except ValueError:\n",
    "        print(\"\\nERROR: letters, punctuation other than decimals, and other special characters will not be accepted.\")\n",
    "        continue\n",
    "    \n",
    "    f=float(Feet)\n",
    "    default_rate = float(0.87)\n",
    "    Over_100_rate = float(0.80)\n",
    "    Over_250_rate = float(0.70)\n",
    "    Over_500_rate = float(0.50)\n",
    "    \n",
    "    def cost_calc(length, rate):\n",
    "        print(\"\\n\\nFIBER OPTIC CABLE INSTALLATION ESTIMATE\")\n",
    "        print(\"\\nCOMPANY: \", Company)\n",
    "        print(\"FEET REQUESTED: \", length)\n",
    "        print(\"STANDARD RATE PER FT: $\", rate)\n",
    "        print(\"YOUR ESTIMATED INSTALLATION COST: $\", round(float(length * rate), 2))\n",
    "\n",
    "    if f<=0:\n",
    "        print(\"\\nERROR: The required length must be greater than zero.\\n\" \"The number you entered is: \", Feet)\n",
    "        continue\n",
    "        \n",
    "    elif f>0 and f<=100:\n",
    "        cost_calc(f, default_rate)\n",
    "        again = input(\"\\nWould you like another estimate? \")\n",
    "        if again.startswith('n') or again.startswith('N'):\n",
    "            print(\"THANK YOU FOR BEING A VALUED CUSTOMER!\")\n",
    "            break\n",
    "        else: \n",
    "            continue\n",
    "            \n",
    "    elif f>100 and f<=250:\n",
    "        cost_calc(f, Over_100_rate)\n",
    "        again = input(\"\\nWould you like another estimate? \")\n",
    "        if again.startswith('n') or again.startswith('N'):\n",
    "            print(\"THANK YOU FOR BEING A VALUED CUSTOMER!\")\n",
    "            break\n",
    "        else: \n",
    "            continue\n",
    "            \n",
    "    elif f>250 and f<=500:\n",
    "        cost_calc(f, Over_250_rate)\n",
    "        again = input(\"\\nWould you like another estimate? \")\n",
    "        if again.startswith('n') or again.startswith('N'):\n",
    "            print(\"THANK YOU FOR BEING A VALUED CUSTOMER!\")\n",
    "            break\n",
    "        else: \n",
    "            continue\n",
    "            \n",
    "    elif f>500:\n",
    "        cost_calc(f, Over_500_rate)\n",
    "        again = input(\"\\nWould you like another estimate? \")\n",
    "        if again.startswith('n') or again.startswith('N'):\n",
    "            print(\"THANK YOU FOR BEING A VALUED CUSTOMER!\")\n",
    "            break\n",
    "        else: \n",
    "            continue"
   ]
  },
  {
   "cell_type": "code",
   "execution_count": null,
   "metadata": {},
   "outputs": [],
   "source": []
  }
 ],
 "metadata": {
  "kernelspec": {
   "display_name": "Python 3",
   "language": "python",
   "name": "python3"
  },
  "language_info": {
   "codemirror_mode": {
    "name": "ipython",
    "version": 3
   },
   "file_extension": ".py",
   "mimetype": "text/x-python",
   "name": "python",
   "nbconvert_exporter": "python",
   "pygments_lexer": "ipython3",
   "version": "3.7.2"
  }
 },
 "nbformat": 4,
 "nbformat_minor": 2
}
